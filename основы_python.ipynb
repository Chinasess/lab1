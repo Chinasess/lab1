{
  "cells": [
    {
      "cell_type": "markdown",
      "metadata": {
        "id": "M-DGa20PaHnu"
      },
      "source": [
        "#Задача 1\n",
        "Написать функцию на вход которой подается строка, состоящая из латинских букв.\n",
        "Функция должна вернуть количество гласных букв (a, e, i, o, u) в этой строке. Написать тесты для кода"
      ]
    },
    {
      "cell_type": "code",
      "execution_count": 4,
      "metadata": {
        "id": "XvX8X_JJ6PCb"
      },
      "outputs": [
        {
          "name": "stdout",
          "output_type": "stream",
          "text": [
            "5\n",
            "1\n",
            "3\n"
          ]
        }
      ],
      "source": [
        "def countVowels(string):\n",
        "   vowels = ['a','e','i','o','u']\n",
        "   total = 0\n",
        "   for s in string:\n",
        "      if s in vowels:\n",
        "         total += 1\n",
        "   return total\n",
        "\n",
        "#тесты\n",
        "print(countVowels('Beautiful'))\n",
        "print (countVowels('Study') )\n",
        "print (countVowels('Holidays'))\n"
      ]
    },
    {
      "cell_type": "markdown",
      "metadata": {
        "id": "t2ClV_Y0bbr6"
      },
      "source": [
        "# Задача 2\n",
        "Написать функцию на вход, которой подается строка. Функция должна вернуть true, если\n",
        "каждый символ в строке встречается только 1 раз, иначе должна вернуть false. Написать тесты для кода"
      ]
    },
    {
      "cell_type": "code",
      "execution_count": 9,
      "metadata": {
        "id": "FppbECao6VIz"
      },
      "outputs": [
        {
          "name": "stdout",
          "output_type": "stream",
          "text": [
            "True\n",
            "True\n",
            "True\n"
          ]
        }
      ],
      "source": [
        "def isOccursOnce(string):\n",
        "    for i in string:\n",
        "        if string.lower().count(i) > 1:\n",
        "            return False\n",
        "        else:\n",
        "            return True\n",
        "#тесты\n",
        "print(isOccursOnce('Life')) \n",
        "print(isOccursOnce('Cute')) \n",
        "print(isOccursOnce('Friend')) "
      ]
    },
    {
      "cell_type": "markdown",
      "metadata": {
        "id": "udRiIK1cdt6E"
      },
      "source": [
        "# Задача 3\n",
        "Написать функцию, которая принимает положительное число и возвращает количество\n",
        "бит равных 1 в этом числе. Написать тесты для кода"
      ]
    },
    {
      "cell_type": "code",
      "execution_count": 10,
      "metadata": {
        "id": "6tkfDJRz6dp_"
      },
      "outputs": [
        {
          "name": "stdout",
          "output_type": "stream",
          "text": [
            "1\n",
            "2\n",
            "4\n",
            "8\n"
          ]
        }
      ],
      "source": [
        "def count_bits(n):\n",
        "  \n",
        "    if n < 0:\n",
        "        raise ValueError(\"n должно быть положительным целым числом.\")\n",
        "        \n",
        "    count = 0\n",
        "    while n > 0:\n",
        "        count += n & 1  # Проверка младшего бита\n",
        "        n >>= 1         # Сдвиг числа вправо на 1 бит\n",
        "    return count\n",
        "\n",
        "# Тесты\n",
        "print(count_bits(1))\n",
        "print(count_bits(3))\n",
        "print(count_bits(15))\n",
        "print(count_bits(255))"
      ]
    },
    {
      "cell_type": "markdown",
      "metadata": {
        "id": "26dDUz-Ae17N"
      },
      "source": [
        "# Задача 4\n",
        "Написать функцию, которая принимает положительное число. Функция должна вернуть то,\n",
        "сколько раз необходимо перемножать цифры числа или результат перемножения, чтобы\n",
        "получилось число состоящее из одной цифры.\n",
        "Например, для входного числа:\n",
        "· 39 функция должна вернуть 3, так как 3*9=27 => 2*7=14 => 1*4=4\n",
        "· 4 функция должна вернуть 0, так как число уже состоит из одной цифры\n",
        "· 999 функция должна вернуть 4, так как 9*9*9=729 => 7*2*9=126 => 1*2*6=12 =>\n",
        "1*2=2. Написать тесты для кода"
      ]
    },
    {
      "cell_type": "code",
      "execution_count": 14,
      "metadata": {
        "id": "BH1A_Mgi6i4G"
      },
      "outputs": [
        {
          "name": "stdout",
          "output_type": "stream",
          "text": [
            "3\n",
            "1\n",
            "4\n"
          ]
        }
      ],
      "source": [
        "from functools import reduce\n",
        "\n",
        "def magic(n):\n",
        "    count = 0\n",
        "    while n > 9:\n",
        "        n = reduce(lambda x, y: x*int(y), str(n), 1)\n",
        "        count += 1\n",
        "    return count\n",
        "\n",
        "#Тесты\n",
        "print(magic(39))\n",
        "print(magic(100))\n",
        "print(magic(878))"
      ]
    },
    {
      "cell_type": "markdown",
      "metadata": {
        "id": "0nS-kIa8g8vd"
      },
      "source": [
        "# Задача 5\n",
        "Написать функцию, которая принимает два целочисленных вектора одинаковой длины и\n",
        "возвращает среднеквадратическое отклонение двух векторов. Написать тесты для кода"
      ]
    },
    {
      "cell_type": "code",
      "execution_count": 15,
      "metadata": {
        "id": "8iphx4LM6xbx"
      },
      "outputs": [
        {
          "name": "stdout",
          "output_type": "stream",
          "text": [
            "0.0\n",
            "1.0\n",
            "25.0\n"
          ]
        }
      ],
      "source": [
        "def mse(pred, true):\n",
        "    if len(pred) != len(true):\n",
        "        raise ValueError(\"Vectors must be of the same length\")\n",
        "    # Вычисляем квадраты разностей для каждого элемента и усредняем\n",
        "    squared_errors = [(p - t) ** 2 for p, t in zip(pred, true)]\n",
        "    return sum(squared_errors) / len(pred)\n",
        "# тесты\n",
        "print(mse([1, 2, 3], [1, 2, 3]))\n",
        "print(mse([1, 2, 3], [2, 3, 4]))\n",
        "print(mse([5, 5, 5], [10, 10, 10]))"
      ]
    },
    {
      "cell_type": "markdown",
      "metadata": {
        "id": "vpIPKL439zkw"
      },
      "source": [
        "# Задача 6\n",
        "Написать функцию, принимающая целое положительное число. Функция должна вернуть\n",
        "строку вида “(n1**p1)(n2**p2)…(nk**pk)” представляющая разложение числа на простые\n",
        "множители (если pi == 1, то выводить только ni).\n",
        "Например, для числа 86240 функция должна вернуть “(2**5)(5)(7**2)(11)”. Написать тесты для кода"
      ]
    },
    {
      "cell_type": "code",
      "execution_count": 16,
      "metadata": {
        "id": "pFebmcZk94Jw"
      },
      "outputs": [
        {
          "name": "stdout",
          "output_type": "stream",
          "text": [
            "(2**2)(3)(5)\n",
            "(2**2)(5**2)\n",
            "(2**3)(3**2)(5)\n"
          ]
        }
      ],
      "source": [
        "def factorization(n):\n",
        "    factors = []\n",
        "    d = 2\n",
        "    while d * d <= n:\n",
        "        count = 0\n",
        "        while (n % d) == 0:\n",
        "            n //= d\n",
        "            count += 1\n",
        "        if count > 0:\n",
        "            if count == 1:\n",
        "                factors.append(f\"({d})\")\n",
        "            else:\n",
        "                factors.append(f\"({d}**{count})\")\n",
        "        d += 1\n",
        "    if n > 1:\n",
        "        factors.append(f\"({n})\")\n",
        "    return ''.join(factors)\n",
        "\n",
        "# тесты\n",
        "print(factorization(60))\n",
        "print(factorization(100))\n",
        "print(factorization(360))\n"
      ]
    },
    {
      "cell_type": "markdown",
      "metadata": {
        "id": "ps2s0BudX7A2"
      },
      "source": [
        "# Задача 7\n",
        "Написать функцию, принимающая целое число n, задающее количество кубиков. Функция\n",
        "должна определить, можно ли из данного кол-ва кубиков построить пирамиду, то есть\n",
        "можно ли представить число n как 1^2+2^2+3^2+…+k^2. Если можно, то функция должна\n",
        "вернуть k, иначе строку “It is impossible”. Написать тесты для кода"
      ]
    },
    {
      "cell_type": "code",
      "execution_count": 21,
      "metadata": {
        "id": "3YPjEXxhX_YT"
      },
      "outputs": [
        {
          "name": "stdout",
          "output_type": "stream",
          "text": [
            "5\n",
            "6\n",
            "4\n"
          ]
        }
      ],
      "source": [
        "def pyramid(n):\n",
        "    if n < 1:\n",
        "        return 'It is impossible'\n",
        "    k = 1\n",
        "    total_cubes = 0\n",
        "    while total_cubes < n:\n",
        "        total_cubes += k**2\n",
        "        if total_cubes == n:\n",
        "            return k\n",
        "        k += 1\n",
        "    return 'It is impossible'\n",
        "# тесты\n",
        "print(pyramid(55))\n",
        "print(pyramid(91))\n",
        "print(pyramid(30))"
      ]
    },
    {
      "cell_type": "markdown",
      "metadata": {
        "id": "KeKgmIdAQMEJ"
      },
      "source": [
        "# Задача 8\n",
        "Функция принимает на вход положительное число и определяет является ли оно сбалансированным, т.е. сумма цифр до средних равна сумме цифр после. Средними в случае нечетного числа цифр считать одну цифру, в случае четного - две средних. Написать тесты для кода"
      ]
    },
    {
      "cell_type": "code",
      "execution_count": 26,
      "metadata": {
        "id": "gMAAqtqlQrZt"
      },
      "outputs": [
        {
          "name": "stdout",
          "output_type": "stream",
          "text": [
            "False\n",
            "True\n",
            "True\n"
          ]
        }
      ],
      "source": [
        "def isBalanced(n):\n",
        "    digits = [int(d) for d in str(n)]\n",
        "    length = len(digits)\n",
        "    if length == 1:\n",
        "        return True\n",
        "    if length % 2 == 0:\n",
        "        mid1 = length // 2 - 1\n",
        "        mid2 = mid1 + 1\n",
        "        leftSum = sum(digits[:mid1 + 1])\n",
        "        rightSum = sum(digits[mid2:])\n",
        "    else:\n",
        "        mid = length // 2\n",
        "        leftSum = sum(digits[:mid])\n",
        "        rightSum = sum(digits[mid + 1:])\n",
        "    \n",
        "    return leftSum == rightSum\n",
        "# тесты\n",
        "print(isBalanced(145))\n",
        "print(isBalanced(0))\n",
        "print(isBalanced(232))"
      ]
    }
  ],
  "metadata": {
    "colab": {
      "provenance": []
    },
    "kernelspec": {
      "display_name": "Python 3",
      "name": "python3"
    },
    "language_info": {
      "codemirror_mode": {
        "name": "ipython",
        "version": 3
      },
      "file_extension": ".py",
      "mimetype": "text/x-python",
      "name": "python",
      "nbconvert_exporter": "python",
      "pygments_lexer": "ipython3",
      "version": "3.13.0"
    }
  },
  "nbformat": 4,
  "nbformat_minor": 0
}
